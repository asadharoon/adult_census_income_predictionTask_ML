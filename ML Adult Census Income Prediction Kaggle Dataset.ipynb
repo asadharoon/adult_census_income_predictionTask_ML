{
 "cells": [
  {
   "cell_type": "markdown",
   "metadata": {
    "slideshow": {
     "slide_type": "-"
    }
   },
   "source": [
    "<center> <h1> Machine Learning Assignment</h1> </center>\n",
    "<center> <h1> Adult Census Income Prediction using Scikit-Learn </h1> </center>\n",
    "<center> <h1> (Step-wise Tutorial)</h1> </center>\n",
    "<br><br><br>\n",
    "<center> <h1> Instructor: Dr. Rao Muhammad Adeel Nawab </h1></center>"
   ]
  },
  {
   "cell_type": "markdown",
   "metadata": {},
   "source": [
    "**Overview**<br>\n",
    "This data was extracted from the 1994 Census bureau database by Ronny Kohavi and Barry Becker (Data Mining and Visualization, Silicon Graphics). A set of reasonably clean records was extracted using the following conditions: ((AAGE>16) && (AGI>100) && (AFNLWGT>1) && (HRSWK>0)). The prediction task is to determine whether a person makes over $50K a year. <br><br>\n",
    "**Machine Learning Approach:** <br>The problem of Adult Census Income Prediction is treated as a supervised learning approach because we going to use the labelled dataset.<br><br> **The Input and Output are:**<br>\n",
    "<b> - Input:</b> Set of Attributes (age,fnlwgt,education.num,marital.status,sex,capital.gain,capital.loss,hours.per.week)<br><br>\n",
    "<b> - Output:</b> Income <br><br>\n",
    "<b> - Goal:</b> Learn from Input to predict Output<br><br>\n",
    "    \n",
    "<h3> Three Phases of Machine Learning: </h3><br><br>\n",
    "<b>1. Training Phase </b>– Learn from Training Dataset.<br><br>\n",
    "<b>2. Testing/Validation/Evaluation Phase</b> – Evaluate how well the algorithm learned.<br><br>\n",
    "<b>3. Application Phase</b>– Use your learned/trained models in real world application.<br><br>\n"
   ]
  },
  {
   "cell_type": "markdown",
   "metadata": {},
   "source": [
    "<center><h1> Table of Contents </h1></center>\n",
    "<h2>PHASE 1 & 2: TRAINING AND TESTING </h2>\n",
    "\n",
    "**Step 1:** Import Libraries<br><br>\n",
    "**Step 2:** Read, Understand and Pre-process Train/Test Data<br><br>\n",
    "**Step 2.1:** Read Data<br><br>\n",
    "**Step 2.2:** Understand Data<br><br>\n",
    "**Step 2.3:** Pre-process Data<br><br>\n",
    "**Step 3:** Label Encoding for Train/Test Data<br><br>\n",
    "**Step 4:** Feature Extraction – Changing Representation of features “from String to Feature-Vector”<br><br>\n",
    "**Step 5:** Train Machine Learning Algorithms using Training Data<br><br>\n",
    "**Step 6:** Evaluate Machine Learning Algorithms using Test Data<br><br>\n",
    "**Step 7:** Selection of Best Model<br><br><br><br>\n",
    "\n",
    "\n",
    "<h2> PHASE 3: APPLICATION PHASE</h2><br>\n",
    "**Step 8:** Application Phase<br><br>\n",
    "**Step 8.1:** Combine Dataset (Train + Test )¶<br><br>\n",
    "**Step 8.2:** Train Best Model (see Step 7) on all data(Train+Test)<br><br>\n",
    "**Step 8.3:** Save the Trained Model in Pickle File<br><br>"
   ]
  },
  {
   "cell_type": "markdown",
   "metadata": {},
   "source": [
    "# Step 1: Import Libraries"
   ]
  },
  {
   "cell_type": "code",
   "execution_count": 1,
   "metadata": {},
   "outputs": [],
   "source": [
    "import pandas as pd\n",
    "import numpy as np\n",
    "import matplotlib.pyplot as plt\n",
    "import seaborn as sns\n",
    "%matplotlib inline\n",
    "import pickle\n",
    "from collections import Counter\n",
    "\n",
    "from sklearn.ensemble import RandomForestClassifier, AdaBoostClassifier, GradientBoostingClassifier, ExtraTreesClassifier, VotingClassifier\n",
    "from sklearn.discriminant_analysis import LinearDiscriminantAnalysis\n",
    "from sklearn.linear_model import LogisticRegression\n",
    "from sklearn.neighbors import KNeighborsClassifier\n",
    "from sklearn.tree import DecisionTreeClassifier\n",
    "from sklearn.neural_network import MLPClassifier\n",
    "from sklearn.naive_bayes import GaussianNB\n",
    "from sklearn.ensemble import RandomForestClassifier\n",
    "from sklearn.model_selection import GridSearchCV, cross_val_score, StratifiedKFold, learning_curve, train_test_split, KFold\n",
    "from sklearn.metrics import classification_report\n",
    "from sklearn.metrics import confusion_matrix\n",
    "from sklearn.metrics import accuracy_score\n",
    "\n",
    "sns.set(style='white', context='notebook', palette='deep')    \n",
    "\n",
    "from astropy.table import Table, Column \n"
   ]
  },
  {
   "cell_type": "markdown",
   "metadata": {},
   "source": [
    "# Step 2: Read, Understand & Pre-process Train Data"
   ]
  },
  {
   "cell_type": "code",
   "execution_count": 2,
   "metadata": {},
   "outputs": [
    {
     "name": "stdout",
     "output_type": "stream",
     "text": [
      "Train Dataset:\n",
      "==============\n",
      "\n",
      "       age         workclass  fnlwgt     education  education.num  \\\n",
      "0       90                 ?   77053       HS-grad              9   \n",
      "1       82           Private  132870       HS-grad              9   \n",
      "2       66                 ?  186061  Some-college             10   \n",
      "3       54           Private  140359       7th-8th              4   \n",
      "4       41           Private  264663  Some-college             10   \n",
      "5       34           Private  216864       HS-grad              9   \n",
      "6       38           Private  150601          10th              6   \n",
      "7       74         State-gov   88638     Doctorate             16   \n",
      "8       68       Federal-gov  422013       HS-grad              9   \n",
      "9       41           Private   70037  Some-college             10   \n",
      "10      45           Private  172274     Doctorate             16   \n",
      "11      38  Self-emp-not-inc  164526   Prof-school             15   \n",
      "12      52           Private  129177     Bachelors             13   \n",
      "13      32           Private  136204       Masters             14   \n",
      "14      51                 ?  172175     Doctorate             16   \n",
      "15      46           Private   45363   Prof-school             15   \n",
      "16      45           Private  172822          11th              7   \n",
      "17      57           Private  317847       Masters             14   \n",
      "18      22           Private  119592    Assoc-acdm             12   \n",
      "19      34           Private  203034     Bachelors             13   \n",
      "20      37           Private  188774     Bachelors             13   \n",
      "21      29           Private   77009          11th              7   \n",
      "22      61           Private   29059       HS-grad              9   \n",
      "23      51           Private  153870  Some-college             10   \n",
      "24      61                 ?  135285       HS-grad              9   \n",
      "25      21           Private   34310     Assoc-voc             11   \n",
      "26      33           Private  228696       1st-4th              2   \n",
      "27      49           Private  122066       5th-6th              3   \n",
      "28      37      Self-emp-inc  107164          10th              6   \n",
      "29      38           Private  175360          10th              6   \n",
      "...    ...               ...     ...           ...            ...   \n",
      "32531   31           Private  292592       HS-grad              9   \n",
      "32532   29           Private  125976       HS-grad              9   \n",
      "32533   35                 ?  320084     Bachelors             13   \n",
      "32534   30                 ?   33811     Bachelors             13   \n",
      "32535   34           Private  204461     Doctorate             16   \n",
      "32536   54           Private  337992     Bachelors             13   \n",
      "32537   37           Private  179137  Some-college             10   \n",
      "32538   22           Private  325033          12th              8   \n",
      "32539   34           Private  160216     Bachelors             13   \n",
      "32540   30           Private  345898       HS-grad              9   \n",
      "32541   71                 ?  287372     Doctorate             16   \n",
      "32542   45         State-gov  252208       HS-grad              9   \n",
      "32543   41                 ?  202822       HS-grad              9   \n",
      "32544   72                 ?  129912       HS-grad              9   \n",
      "32545   45         Local-gov  119199    Assoc-acdm             12   \n",
      "32546   31           Private  199655       Masters             14   \n",
      "32547   39         Local-gov  111499    Assoc-acdm             12   \n",
      "32548   37           Private  198216    Assoc-acdm             12   \n",
      "32549   43           Private  260761       HS-grad              9   \n",
      "32550   43         State-gov  255835  Some-college             10   \n",
      "32551   43  Self-emp-not-inc   27242  Some-college             10   \n",
      "32552   32           Private   34066          10th              6   \n",
      "32553   43           Private   84661     Assoc-voc             11   \n",
      "32554   32           Private  116138       Masters             14   \n",
      "32555   53           Private  321865       Masters             14   \n",
      "32556   22           Private  310152  Some-college             10   \n",
      "32557   27           Private  257302    Assoc-acdm             12   \n",
      "32558   40           Private  154374       HS-grad              9   \n",
      "32559   58           Private  151910       HS-grad              9   \n",
      "32560   22           Private  201490       HS-grad              9   \n",
      "\n",
      "           marital.status         occupation    relationship  \\\n",
      "0                 Widowed                  ?   Not-in-family   \n",
      "1                 Widowed    Exec-managerial   Not-in-family   \n",
      "2                 Widowed                  ?       Unmarried   \n",
      "3                Divorced  Machine-op-inspct       Unmarried   \n",
      "4               Separated     Prof-specialty       Own-child   \n",
      "5                Divorced      Other-service       Unmarried   \n",
      "6               Separated       Adm-clerical       Unmarried   \n",
      "7           Never-married     Prof-specialty  Other-relative   \n",
      "8                Divorced     Prof-specialty   Not-in-family   \n",
      "9           Never-married       Craft-repair       Unmarried   \n",
      "10               Divorced     Prof-specialty       Unmarried   \n",
      "11          Never-married     Prof-specialty   Not-in-family   \n",
      "12                Widowed      Other-service   Not-in-family   \n",
      "13              Separated    Exec-managerial   Not-in-family   \n",
      "14          Never-married                  ?   Not-in-family   \n",
      "15               Divorced     Prof-specialty   Not-in-family   \n",
      "16               Divorced   Transport-moving   Not-in-family   \n",
      "17               Divorced    Exec-managerial   Not-in-family   \n",
      "18          Never-married  Handlers-cleaners   Not-in-family   \n",
      "19              Separated              Sales   Not-in-family   \n",
      "20          Never-married    Exec-managerial   Not-in-family   \n",
      "21              Separated              Sales   Not-in-family   \n",
      "22               Divorced              Sales       Unmarried   \n",
      "23     Married-civ-spouse   Transport-moving         Husband   \n",
      "24     Married-civ-spouse                  ?         Husband   \n",
      "25     Married-civ-spouse       Craft-repair         Husband   \n",
      "26     Married-civ-spouse       Craft-repair   Not-in-family   \n",
      "27     Married-civ-spouse      Other-service         Husband   \n",
      "28          Never-married   Transport-moving   Not-in-family   \n",
      "29          Never-married     Prof-specialty   Not-in-family   \n",
      "...                   ...                ...             ...   \n",
      "32531  Married-civ-spouse  Machine-op-inspct            Wife   \n",
      "32532           Separated              Sales       Unmarried   \n",
      "32533  Married-civ-spouse                  ?            Wife   \n",
      "32534       Never-married                  ?   Not-in-family   \n",
      "32535  Married-civ-spouse     Prof-specialty         Husband   \n",
      "32536  Married-civ-spouse    Exec-managerial         Husband   \n",
      "32537            Divorced       Adm-clerical       Unmarried   \n",
      "32538       Never-married    Protective-serv       Own-child   \n",
      "32539       Never-married    Exec-managerial   Not-in-family   \n",
      "32540       Never-married       Craft-repair   Not-in-family   \n",
      "32541  Married-civ-spouse                  ?         Husband   \n",
      "32542           Separated       Adm-clerical       Own-child   \n",
      "32543           Separated                  ?   Not-in-family   \n",
      "32544  Married-civ-spouse                  ?         Husband   \n",
      "32545            Divorced     Prof-specialty       Unmarried   \n",
      "32546            Divorced      Other-service   Not-in-family   \n",
      "32547  Married-civ-spouse       Adm-clerical            Wife   \n",
      "32548            Divorced       Tech-support   Not-in-family   \n",
      "32549  Married-civ-spouse  Machine-op-inspct         Husband   \n",
      "32550            Divorced       Adm-clerical  Other-relative   \n",
      "32551  Married-civ-spouse       Craft-repair         Husband   \n",
      "32552  Married-civ-spouse  Handlers-cleaners         Husband   \n",
      "32553  Married-civ-spouse              Sales         Husband   \n",
      "32554       Never-married       Tech-support   Not-in-family   \n",
      "32555  Married-civ-spouse    Exec-managerial         Husband   \n",
      "32556       Never-married    Protective-serv   Not-in-family   \n",
      "32557  Married-civ-spouse       Tech-support            Wife   \n",
      "32558  Married-civ-spouse  Machine-op-inspct         Husband   \n",
      "32559             Widowed       Adm-clerical       Unmarried   \n",
      "32560       Never-married       Adm-clerical       Own-child   \n",
      "\n",
      "                     race     sex  capital.gain  capital.loss  hours.per.week  \\\n",
      "0                   White  Female             0          4356              40   \n",
      "1                   White  Female             0          4356              18   \n",
      "2                   Black  Female             0          4356              40   \n",
      "3                   White  Female             0          3900              40   \n",
      "4                   White  Female             0          3900              40   \n",
      "5                   White  Female             0          3770              45   \n",
      "6                   White    Male             0          3770              40   \n",
      "7                   White  Female             0          3683              20   \n",
      "8                   White  Female             0          3683              40   \n",
      "9                   White    Male             0          3004              60   \n",
      "10                  Black  Female             0          3004              35   \n",
      "11                  White    Male             0          2824              45   \n",
      "12                  White  Female             0          2824              20   \n",
      "13                  White    Male             0          2824              55   \n",
      "14                  White    Male             0          2824              40   \n",
      "15                  White    Male             0          2824              40   \n",
      "16                  White    Male             0          2824              76   \n",
      "17                  White    Male             0          2824              50   \n",
      "18                  Black    Male             0          2824              40   \n",
      "19                  White    Male             0          2824              50   \n",
      "20                  White    Male             0          2824              40   \n",
      "21                  White  Female             0          2754              42   \n",
      "22                  White  Female             0          2754              25   \n",
      "23                  White    Male             0          2603              40   \n",
      "24                  White    Male             0          2603              32   \n",
      "25                  White    Male             0          2603              40   \n",
      "26                  White    Male             0          2603              32   \n",
      "27                  White    Male             0          2603              40   \n",
      "28                  White    Male             0          2559              50   \n",
      "29                  White    Male             0          2559              90   \n",
      "...                   ...     ...           ...           ...             ...   \n",
      "32531               White  Female             0             0              40   \n",
      "32532               White  Female             0             0              35   \n",
      "32533               White  Female             0             0              55   \n",
      "32534  Asian-Pac-Islander  Female             0             0              99   \n",
      "32535               White    Male             0             0              60   \n",
      "32536  Asian-Pac-Islander    Male             0             0              50   \n",
      "32537               White  Female             0             0              39   \n",
      "32538               Black    Male             0             0              35   \n",
      "32539               White  Female             0             0              55   \n",
      "32540               Black    Male             0             0              46   \n",
      "32541               White    Male             0             0              10   \n",
      "32542               White  Female             0             0              40   \n",
      "32543               Black  Female             0             0              32   \n",
      "32544               White    Male             0             0              25   \n",
      "32545               White  Female             0             0              48   \n",
      "32546               Other  Female             0             0              30   \n",
      "32547               White  Female             0             0              20   \n",
      "32548               White  Female             0             0              40   \n",
      "32549               White    Male             0             0              40   \n",
      "32550               White  Female             0             0              40   \n",
      "32551               White    Male             0             0              50   \n",
      "32552  Amer-Indian-Eskimo    Male             0             0              40   \n",
      "32553               White    Male             0             0              45   \n",
      "32554  Asian-Pac-Islander    Male             0             0              11   \n",
      "32555               White    Male             0             0              40   \n",
      "32556               White    Male             0             0              40   \n",
      "32557               White  Female             0             0              38   \n",
      "32558               White    Male             0             0              40   \n",
      "32559               White  Female             0             0              40   \n",
      "32560               White    Male             0             0              20   \n",
      "\n",
      "      native.country income  \n",
      "0      United-States  <=50K  \n",
      "1      United-States  <=50K  \n",
      "2      United-States  <=50K  \n",
      "3      United-States  <=50K  \n",
      "4      United-States  <=50K  \n",
      "5      United-States  <=50K  \n",
      "6      United-States  <=50K  \n",
      "7      United-States   >50K  \n",
      "8      United-States  <=50K  \n",
      "9                  ?   >50K  \n",
      "10     United-States   >50K  \n",
      "11     United-States   >50K  \n",
      "12     United-States   >50K  \n",
      "13     United-States   >50K  \n",
      "14     United-States   >50K  \n",
      "15     United-States   >50K  \n",
      "16     United-States   >50K  \n",
      "17     United-States   >50K  \n",
      "18                 ?   >50K  \n",
      "19     United-States   >50K  \n",
      "20     United-States   >50K  \n",
      "21     United-States  <=50K  \n",
      "22     United-States  <=50K  \n",
      "23     United-States  <=50K  \n",
      "24     United-States  <=50K  \n",
      "25     United-States  <=50K  \n",
      "26            Mexico  <=50K  \n",
      "27            Greece  <=50K  \n",
      "28     United-States   >50K  \n",
      "29     United-States   >50K  \n",
      "...              ...    ...  \n",
      "32531  United-States  <=50K  \n",
      "32532  United-States  <=50K  \n",
      "32533  United-States   >50K  \n",
      "32534  United-States  <=50K  \n",
      "32535  United-States   >50K  \n",
      "32536          Japan   >50K  \n",
      "32537  United-States  <=50K  \n",
      "32538  United-States  <=50K  \n",
      "32539  United-States   >50K  \n",
      "32540  United-States  <=50K  \n",
      "32541  United-States   >50K  \n",
      "32542  United-States  <=50K  \n",
      "32543  United-States  <=50K  \n",
      "32544  United-States  <=50K  \n",
      "32545  United-States  <=50K  \n",
      "32546  United-States  <=50K  \n",
      "32547  United-States   >50K  \n",
      "32548  United-States  <=50K  \n",
      "32549         Mexico  <=50K  \n",
      "32550  United-States  <=50K  \n",
      "32551  United-States  <=50K  \n",
      "32552  United-States  <=50K  \n",
      "32553  United-States  <=50K  \n",
      "32554         Taiwan  <=50K  \n",
      "32555  United-States   >50K  \n",
      "32556  United-States  <=50K  \n",
      "32557  United-States  <=50K  \n",
      "32558  United-States   >50K  \n",
      "32559  United-States  <=50K  \n",
      "32560  United-States  <=50K  \n",
      "\n",
      "[32561 rows x 15 columns]\n",
      "\n",
      "\n",
      "\n",
      "Attributes Names in Train Dataset:\n",
      "==================================\n",
      "\n",
      "Index(['age', 'workclass', 'fnlwgt', 'education', 'education.num',\n",
      "       'marital.status', 'occupation', 'relationship', 'race', 'sex',\n",
      "       'capital.gain', 'capital.loss', 'hours.per.week', 'native.country',\n",
      "       'income'],\n",
      "      dtype='object')\n",
      "\n",
      "\n",
      "\n",
      "Number of instances in Train Dataset:\n",
      "=====================================\n",
      "\n",
      "Train Data instances:  32561\n"
     ]
    }
   ],
   "source": [
    "train_dataset=pd.read_csv('adult.csv')\n",
    "a=\"Train Dataset:\"\n",
    "print(a)\n",
    "print('='*len(a)+\"\\n\")\n",
    "print(train_dataset)\n",
    "print(\"\\n\\n\")\n",
    "b=\"Attributes Names in Train Dataset:\"\n",
    "print(b)\n",
    "print('='*len(b)+\"\\n\")\n",
    "print(train_dataset.columns)\n",
    "print(\"\\n\\n\")\n",
    "c=\"Number of instances in Train Dataset:\"\n",
    "print(c)\n",
    "print('='*len(c)+\"\\n\")\n",
    "print(\"Train Data instances: \",train_dataset.shape[0])"
   ]
  },
  {
   "cell_type": "code",
   "execution_count": 3,
   "metadata": {},
   "outputs": [
    {
     "data": {
      "text/html": [
       "<div>\n",
       "<style scoped>\n",
       "    .dataframe tbody tr th:only-of-type {\n",
       "        vertical-align: middle;\n",
       "    }\n",
       "\n",
       "    .dataframe tbody tr th {\n",
       "        vertical-align: top;\n",
       "    }\n",
       "\n",
       "    .dataframe thead th {\n",
       "        text-align: right;\n",
       "    }\n",
       "</style>\n",
       "<table border=\"1\" class=\"dataframe\">\n",
       "  <thead>\n",
       "    <tr style=\"text-align: right;\">\n",
       "      <th></th>\n",
       "      <th>age</th>\n",
       "      <th>workclass</th>\n",
       "      <th>fnlwgt</th>\n",
       "      <th>education</th>\n",
       "      <th>education.num</th>\n",
       "      <th>marital.status</th>\n",
       "      <th>occupation</th>\n",
       "      <th>relationship</th>\n",
       "      <th>race</th>\n",
       "      <th>sex</th>\n",
       "      <th>capital.gain</th>\n",
       "      <th>capital.loss</th>\n",
       "      <th>hours.per.week</th>\n",
       "      <th>native.country</th>\n",
       "      <th>income</th>\n",
       "    </tr>\n",
       "  </thead>\n",
       "  <tbody>\n",
       "    <tr>\n",
       "      <th>0</th>\n",
       "      <td>90</td>\n",
       "      <td>?</td>\n",
       "      <td>77053</td>\n",
       "      <td>HS-grad</td>\n",
       "      <td>9</td>\n",
       "      <td>Widowed</td>\n",
       "      <td>?</td>\n",
       "      <td>Not-in-family</td>\n",
       "      <td>White</td>\n",
       "      <td>Female</td>\n",
       "      <td>0</td>\n",
       "      <td>4356</td>\n",
       "      <td>40</td>\n",
       "      <td>United-States</td>\n",
       "      <td>&lt;=50K</td>\n",
       "    </tr>\n",
       "    <tr>\n",
       "      <th>1</th>\n",
       "      <td>82</td>\n",
       "      <td>Private</td>\n",
       "      <td>132870</td>\n",
       "      <td>HS-grad</td>\n",
       "      <td>9</td>\n",
       "      <td>Widowed</td>\n",
       "      <td>Exec-managerial</td>\n",
       "      <td>Not-in-family</td>\n",
       "      <td>White</td>\n",
       "      <td>Female</td>\n",
       "      <td>0</td>\n",
       "      <td>4356</td>\n",
       "      <td>18</td>\n",
       "      <td>United-States</td>\n",
       "      <td>&lt;=50K</td>\n",
       "    </tr>\n",
       "    <tr>\n",
       "      <th>2</th>\n",
       "      <td>66</td>\n",
       "      <td>?</td>\n",
       "      <td>186061</td>\n",
       "      <td>Some-college</td>\n",
       "      <td>10</td>\n",
       "      <td>Widowed</td>\n",
       "      <td>?</td>\n",
       "      <td>Unmarried</td>\n",
       "      <td>Black</td>\n",
       "      <td>Female</td>\n",
       "      <td>0</td>\n",
       "      <td>4356</td>\n",
       "      <td>40</td>\n",
       "      <td>United-States</td>\n",
       "      <td>&lt;=50K</td>\n",
       "    </tr>\n",
       "    <tr>\n",
       "      <th>3</th>\n",
       "      <td>54</td>\n",
       "      <td>Private</td>\n",
       "      <td>140359</td>\n",
       "      <td>7th-8th</td>\n",
       "      <td>4</td>\n",
       "      <td>Divorced</td>\n",
       "      <td>Machine-op-inspct</td>\n",
       "      <td>Unmarried</td>\n",
       "      <td>White</td>\n",
       "      <td>Female</td>\n",
       "      <td>0</td>\n",
       "      <td>3900</td>\n",
       "      <td>40</td>\n",
       "      <td>United-States</td>\n",
       "      <td>&lt;=50K</td>\n",
       "    </tr>\n",
       "    <tr>\n",
       "      <th>4</th>\n",
       "      <td>41</td>\n",
       "      <td>Private</td>\n",
       "      <td>264663</td>\n",
       "      <td>Some-college</td>\n",
       "      <td>10</td>\n",
       "      <td>Separated</td>\n",
       "      <td>Prof-specialty</td>\n",
       "      <td>Own-child</td>\n",
       "      <td>White</td>\n",
       "      <td>Female</td>\n",
       "      <td>0</td>\n",
       "      <td>3900</td>\n",
       "      <td>40</td>\n",
       "      <td>United-States</td>\n",
       "      <td>&lt;=50K</td>\n",
       "    </tr>\n",
       "  </tbody>\n",
       "</table>\n",
       "</div>"
      ],
      "text/plain": [
       "   age workclass  fnlwgt     education  education.num marital.status  \\\n",
       "0   90         ?   77053       HS-grad              9        Widowed   \n",
       "1   82   Private  132870       HS-grad              9        Widowed   \n",
       "2   66         ?  186061  Some-college             10        Widowed   \n",
       "3   54   Private  140359       7th-8th              4       Divorced   \n",
       "4   41   Private  264663  Some-college             10      Separated   \n",
       "\n",
       "          occupation   relationship   race     sex  capital.gain  \\\n",
       "0                  ?  Not-in-family  White  Female             0   \n",
       "1    Exec-managerial  Not-in-family  White  Female             0   \n",
       "2                  ?      Unmarried  Black  Female             0   \n",
       "3  Machine-op-inspct      Unmarried  White  Female             0   \n",
       "4     Prof-specialty      Own-child  White  Female             0   \n",
       "\n",
       "   capital.loss  hours.per.week native.country income  \n",
       "0          4356              40  United-States  <=50K  \n",
       "1          4356              18  United-States  <=50K  \n",
       "2          4356              40  United-States  <=50K  \n",
       "3          3900              40  United-States  <=50K  \n",
       "4          3900              40  United-States  <=50K  "
      ]
     },
     "execution_count": 3,
     "metadata": {},
     "output_type": "execute_result"
    }
   ],
   "source": [
    "train_dataset.head()"
   ]
  },
  {
   "cell_type": "code",
   "execution_count": 4,
   "metadata": {
    "scrolled": true
   },
   "outputs": [
    {
     "name": "stdout",
     "output_type": "stream",
     "text": [
      "<class 'pandas.core.frame.DataFrame'>\n",
      "RangeIndex: 32561 entries, 0 to 32560\n",
      "Data columns (total 15 columns):\n",
      "age               32561 non-null int64\n",
      "workclass         32561 non-null object\n",
      "fnlwgt            32561 non-null int64\n",
      "education         32561 non-null object\n",
      "education.num     32561 non-null int64\n",
      "marital.status    32561 non-null object\n",
      "occupation        32561 non-null object\n",
      "relationship      32561 non-null object\n",
      "race              32561 non-null object\n",
      "sex               32561 non-null object\n",
      "capital.gain      32561 non-null int64\n",
      "capital.loss      32561 non-null int64\n",
      "hours.per.week    32561 non-null int64\n",
      "native.country    32561 non-null object\n",
      "income            32561 non-null object\n",
      "dtypes: int64(6), object(9)\n",
      "memory usage: 3.7+ MB\n"
     ]
    }
   ],
   "source": [
    "train_dataset.info()"
   ]
  },
  {
   "cell_type": "code",
   "execution_count": 5,
   "metadata": {
    "scrolled": true
   },
   "outputs": [
    {
     "data": {
      "text/html": [
       "<div>\n",
       "<style scoped>\n",
       "    .dataframe tbody tr th:only-of-type {\n",
       "        vertical-align: middle;\n",
       "    }\n",
       "\n",
       "    .dataframe tbody tr th {\n",
       "        vertical-align: top;\n",
       "    }\n",
       "\n",
       "    .dataframe thead th {\n",
       "        text-align: right;\n",
       "    }\n",
       "</style>\n",
       "<table border=\"1\" class=\"dataframe\">\n",
       "  <thead>\n",
       "    <tr style=\"text-align: right;\">\n",
       "      <th></th>\n",
       "      <th>age</th>\n",
       "      <th>fnlwgt</th>\n",
       "      <th>education.num</th>\n",
       "      <th>capital.gain</th>\n",
       "      <th>capital.loss</th>\n",
       "      <th>hours.per.week</th>\n",
       "    </tr>\n",
       "  </thead>\n",
       "  <tbody>\n",
       "    <tr>\n",
       "      <th>count</th>\n",
       "      <td>32561.000000</td>\n",
       "      <td>3.256100e+04</td>\n",
       "      <td>32561.000000</td>\n",
       "      <td>32561.000000</td>\n",
       "      <td>32561.000000</td>\n",
       "      <td>32561.000000</td>\n",
       "    </tr>\n",
       "    <tr>\n",
       "      <th>mean</th>\n",
       "      <td>38.581647</td>\n",
       "      <td>1.897784e+05</td>\n",
       "      <td>10.080679</td>\n",
       "      <td>1077.648844</td>\n",
       "      <td>87.303830</td>\n",
       "      <td>40.437456</td>\n",
       "    </tr>\n",
       "    <tr>\n",
       "      <th>std</th>\n",
       "      <td>13.640433</td>\n",
       "      <td>1.055500e+05</td>\n",
       "      <td>2.572720</td>\n",
       "      <td>7385.292085</td>\n",
       "      <td>402.960219</td>\n",
       "      <td>12.347429</td>\n",
       "    </tr>\n",
       "    <tr>\n",
       "      <th>min</th>\n",
       "      <td>17.000000</td>\n",
       "      <td>1.228500e+04</td>\n",
       "      <td>1.000000</td>\n",
       "      <td>0.000000</td>\n",
       "      <td>0.000000</td>\n",
       "      <td>1.000000</td>\n",
       "    </tr>\n",
       "    <tr>\n",
       "      <th>25%</th>\n",
       "      <td>28.000000</td>\n",
       "      <td>1.178270e+05</td>\n",
       "      <td>9.000000</td>\n",
       "      <td>0.000000</td>\n",
       "      <td>0.000000</td>\n",
       "      <td>40.000000</td>\n",
       "    </tr>\n",
       "    <tr>\n",
       "      <th>50%</th>\n",
       "      <td>37.000000</td>\n",
       "      <td>1.783560e+05</td>\n",
       "      <td>10.000000</td>\n",
       "      <td>0.000000</td>\n",
       "      <td>0.000000</td>\n",
       "      <td>40.000000</td>\n",
       "    </tr>\n",
       "    <tr>\n",
       "      <th>75%</th>\n",
       "      <td>48.000000</td>\n",
       "      <td>2.370510e+05</td>\n",
       "      <td>12.000000</td>\n",
       "      <td>0.000000</td>\n",
       "      <td>0.000000</td>\n",
       "      <td>45.000000</td>\n",
       "    </tr>\n",
       "    <tr>\n",
       "      <th>max</th>\n",
       "      <td>90.000000</td>\n",
       "      <td>1.484705e+06</td>\n",
       "      <td>16.000000</td>\n",
       "      <td>99999.000000</td>\n",
       "      <td>4356.000000</td>\n",
       "      <td>99.000000</td>\n",
       "    </tr>\n",
       "  </tbody>\n",
       "</table>\n",
       "</div>"
      ],
      "text/plain": [
       "                age        fnlwgt  education.num  capital.gain  capital.loss  \\\n",
       "count  32561.000000  3.256100e+04   32561.000000  32561.000000  32561.000000   \n",
       "mean      38.581647  1.897784e+05      10.080679   1077.648844     87.303830   \n",
       "std       13.640433  1.055500e+05       2.572720   7385.292085    402.960219   \n",
       "min       17.000000  1.228500e+04       1.000000      0.000000      0.000000   \n",
       "25%       28.000000  1.178270e+05       9.000000      0.000000      0.000000   \n",
       "50%       37.000000  1.783560e+05      10.000000      0.000000      0.000000   \n",
       "75%       48.000000  2.370510e+05      12.000000      0.000000      0.000000   \n",
       "max       90.000000  1.484705e+06      16.000000  99999.000000   4356.000000   \n",
       "\n",
       "       hours.per.week  \n",
       "count    32561.000000  \n",
       "mean        40.437456  \n",
       "std         12.347429  \n",
       "min          1.000000  \n",
       "25%         40.000000  \n",
       "50%         40.000000  \n",
       "75%         45.000000  \n",
       "max         99.000000  "
      ]
     },
     "execution_count": 5,
     "metadata": {},
     "output_type": "execute_result"
    }
   ],
   "source": [
    "train_dataset.describe()"
   ]
  },
  {
   "cell_type": "code",
   "execution_count": 6,
   "metadata": {},
   "outputs": [
    {
     "data": {
      "text/html": [
       "<div>\n",
       "<style scoped>\n",
       "    .dataframe tbody tr th:only-of-type {\n",
       "        vertical-align: middle;\n",
       "    }\n",
       "\n",
       "    .dataframe tbody tr th {\n",
       "        vertical-align: top;\n",
       "    }\n",
       "\n",
       "    .dataframe thead th {\n",
       "        text-align: right;\n",
       "    }\n",
       "</style>\n",
       "<table border=\"1\" class=\"dataframe\">\n",
       "  <thead>\n",
       "    <tr style=\"text-align: right;\">\n",
       "      <th></th>\n",
       "      <th>age</th>\n",
       "      <th>workclass</th>\n",
       "      <th>fnlwgt</th>\n",
       "      <th>education</th>\n",
       "      <th>education.num</th>\n",
       "      <th>marital.status</th>\n",
       "      <th>occupation</th>\n",
       "      <th>relationship</th>\n",
       "      <th>race</th>\n",
       "      <th>sex</th>\n",
       "      <th>capital.gain</th>\n",
       "      <th>capital.loss</th>\n",
       "      <th>hours.per.week</th>\n",
       "      <th>native.country</th>\n",
       "      <th>income</th>\n",
       "    </tr>\n",
       "  </thead>\n",
       "  <tbody>\n",
       "    <tr>\n",
       "      <th>0</th>\n",
       "      <td>90</td>\n",
       "      <td>?</td>\n",
       "      <td>77053</td>\n",
       "      <td>HS-grad</td>\n",
       "      <td>9</td>\n",
       "      <td>Widowed</td>\n",
       "      <td>?</td>\n",
       "      <td>Not-in-family</td>\n",
       "      <td>White</td>\n",
       "      <td>Female</td>\n",
       "      <td>0</td>\n",
       "      <td>4356</td>\n",
       "      <td>40</td>\n",
       "      <td>United-States</td>\n",
       "      <td>0</td>\n",
       "    </tr>\n",
       "    <tr>\n",
       "      <th>1</th>\n",
       "      <td>82</td>\n",
       "      <td>Private</td>\n",
       "      <td>132870</td>\n",
       "      <td>HS-grad</td>\n",
       "      <td>9</td>\n",
       "      <td>Widowed</td>\n",
       "      <td>Exec-managerial</td>\n",
       "      <td>Not-in-family</td>\n",
       "      <td>White</td>\n",
       "      <td>Female</td>\n",
       "      <td>0</td>\n",
       "      <td>4356</td>\n",
       "      <td>18</td>\n",
       "      <td>United-States</td>\n",
       "      <td>0</td>\n",
       "    </tr>\n",
       "    <tr>\n",
       "      <th>2</th>\n",
       "      <td>66</td>\n",
       "      <td>?</td>\n",
       "      <td>186061</td>\n",
       "      <td>Some-college</td>\n",
       "      <td>10</td>\n",
       "      <td>Widowed</td>\n",
       "      <td>?</td>\n",
       "      <td>Unmarried</td>\n",
       "      <td>Black</td>\n",
       "      <td>Female</td>\n",
       "      <td>0</td>\n",
       "      <td>4356</td>\n",
       "      <td>40</td>\n",
       "      <td>United-States</td>\n",
       "      <td>0</td>\n",
       "    </tr>\n",
       "    <tr>\n",
       "      <th>3</th>\n",
       "      <td>54</td>\n",
       "      <td>Private</td>\n",
       "      <td>140359</td>\n",
       "      <td>7th-8th</td>\n",
       "      <td>4</td>\n",
       "      <td>Divorced</td>\n",
       "      <td>Machine-op-inspct</td>\n",
       "      <td>Unmarried</td>\n",
       "      <td>White</td>\n",
       "      <td>Female</td>\n",
       "      <td>0</td>\n",
       "      <td>3900</td>\n",
       "      <td>40</td>\n",
       "      <td>United-States</td>\n",
       "      <td>0</td>\n",
       "    </tr>\n",
       "  </tbody>\n",
       "</table>\n",
       "</div>"
      ],
      "text/plain": [
       "   age workclass  fnlwgt     education  education.num marital.status  \\\n",
       "0   90         ?   77053       HS-grad              9        Widowed   \n",
       "1   82   Private  132870       HS-grad              9        Widowed   \n",
       "2   66         ?  186061  Some-college             10        Widowed   \n",
       "3   54   Private  140359       7th-8th              4       Divorced   \n",
       "\n",
       "          occupation   relationship   race     sex  capital.gain  \\\n",
       "0                  ?  Not-in-family  White  Female             0   \n",
       "1    Exec-managerial  Not-in-family  White  Female             0   \n",
       "2                  ?      Unmarried  Black  Female             0   \n",
       "3  Machine-op-inspct      Unmarried  White  Female             0   \n",
       "\n",
       "   capital.loss  hours.per.week native.country  income  \n",
       "0          4356              40  United-States       0  \n",
       "1          4356              18  United-States       0  \n",
       "2          4356              40  United-States       0  \n",
       "3          3900              40  United-States       0  "
      ]
     },
     "execution_count": 6,
     "metadata": {},
     "output_type": "execute_result"
    }
   ],
   "source": [
    "train_dataset['income']=train_dataset['income'].map({'<=50K': 0, '>50K': 1, '<=50K.': 0, '>50K.': 1})\n",
    "train_dataset.head(4)"
   ]
  },
  {
   "cell_type": "markdown",
   "metadata": {},
   "source": [
    "### Understanding Data via Graphs"
   ]
  },
  {
   "cell_type": "code",
   "execution_count": 7,
   "metadata": {},
   "outputs": [
    {
     "name": "stdout",
     "output_type": "stream",
     "text": [
      "Income Count in Train Dataset:\n",
      "==============================\n",
      "0    24720\n",
      "1     7841\n",
      "Name: income, dtype: int64\n"
     ]
    },
    {
     "data": {
      "image/png": "[encoded data removed]",
      "text/plain": [
       "<Figure size 432x288 with 1 Axes>"
      ]
     },
     "metadata": {
      "needs_background": "light"
     },
     "output_type": "display_data"
    }
   ],
   "source": [
    "import matplotlib.pyplot as plt\n",
    "a=\"Income Count in Train Dataset:\"\n",
    "print(a)\n",
    "print('='*len(a))\n",
    "sns.countplot(train_dataset['income'],label=\"Count\")\n",
    "print(train_dataset['income'].value_counts())\n"
   ]
  },
  {
   "cell_type": "code",
   "execution_count": 8,
   "metadata": {},
   "outputs": [],
   "source": [
    "numeric_features = ['age','fnlwgt','education.num','capital.gain','capital.loss','hours.per.week','income']\n",
    "\n",
    "# Identify Categorical features\n",
    "cat_features = ['workclass','education','marital.status', 'occupation', 'relationship', 'race', 'sex', 'native']"
   ]
  },
  {
   "cell_type": "code",
   "execution_count": 9,
   "metadata": {},
   "outputs": [
    {
     "data": {
      "image/png": "[encoded data removed]",
      "text/plain": [
       "<Figure size 432x288 with 2 Axes>"
      ]
     },
     "metadata": {
      "needs_background": "light"
     },
     "output_type": "display_data"
    }
   ],
   "source": [
    "#Correlation\n",
    "g = sns.heatmap(train_dataset[numeric_features].corr(),annot=True, fmt = \".2f\", cmap = \"coolwarm\")\n"
   ]
  },
  {
   "cell_type": "code",
   "execution_count": 10,
   "metadata": {},
   "outputs": [
    {
     "name": "stderr",
     "output_type": "stream",
     "text": [
      "C:\\ProgramData\\Anaconda3\\lib\\site-packages\\seaborn\\categorical.py:3666: UserWarning: The `factorplot` function has been renamed to `catplot`. The original name will be removed in a future release. Please update your code. Note that the default `kind` in `factorplot` (`'point'`) has changed `'strip'` in `catplot`.\n",
      "  warnings.warn(msg)\n",
      "C:\\ProgramData\\Anaconda3\\lib\\site-packages\\seaborn\\categorical.py:3672: UserWarning: The `size` paramter has been renamed to `height`; please update your code.\n",
      "  warnings.warn(msg, UserWarning)\n"
     ]
    },
    {
     "data": {
      "image/png": "[encoded data removed]",
      "text/plain": [
       "<Figure size 432x432 with 1 Axes>"
      ]
     },
     "metadata": {
      "needs_background": "light"
     },
     "output_type": "display_data"
    }
   ],
   "source": [
    "# Explore Education Num vs Income\n",
    "g = sns.factorplot(x=\"education.num\",y=\"income\",data=train_dataset,kind=\"bar\",size = 6,palette = \"muted\")\n",
    "g.despine(left=True)\n",
    "g = g.set_ylabels(\">50k Income Probability\")"
   ]
  },
  {
   "cell_type": "code",
   "execution_count": 11,
   "metadata": {},
   "outputs": [
    {
     "data": {
      "image/png": "[encoded data removed]",
      "text/plain": [
       "<Figure size 432x432 with 1 Axes>"
      ]
     },
     "metadata": {
      "needs_background": "light"
     },
     "output_type": "display_data"
    }
   ],
   "source": [
    "# Explore Hours Per Week vs Income\n",
    "g  = sns.factorplot(x=\"hours.per.week\",y=\"income\",data=train_dataset,kind=\"bar\",size = 6,palette = \"muted\")\n",
    "g.despine(left=True)\n",
    "g = g.set_ylabels(\">50K probability\")"
   ]
  },
  {
   "cell_type": "code",
   "execution_count": 12,
   "metadata": {},
   "outputs": [
    {
     "data": {
      "image/png": "[encoded data removed]",
      "text/plain": [
       "<Figure size 432x216 with 2 Axes>"
      ]
     },
     "metadata": {
      "needs_background": "light"
     },
     "output_type": "display_data"
    }
   ],
   "source": [
    "# Explore Age vs Income\n",
    "g = sns.FacetGrid(train_dataset, col='income')\n",
    "g = g.map(sns.distplot, \"age\")"
   ]
  },
  {
   "cell_type": "markdown",
   "metadata": {},
   "source": [
    "### Step 2.3: Pre-Process Data"
   ]
  },
  {
   "cell_type": "code",
   "execution_count": 13,
   "metadata": {
    "scrolled": true
   },
   "outputs": [
    {
     "name": "stdout",
     "output_type": "stream",
     "text": [
      "Train data before pre-processing:\n",
      "===========================================\n",
      "\n",
      "\n",
      "   age workclass  fnlwgt     education  education.num marital.status  \\\n",
      "0   90         ?   77053       HS-grad              9        Widowed   \n",
      "1   82   Private  132870       HS-grad              9        Widowed   \n",
      "2   66         ?  186061  Some-college             10        Widowed   \n",
      "\n",
      "        occupation   relationship   race     sex  capital.gain  capital.loss  \\\n",
      "0                ?  Not-in-family  White  Female             0          4356   \n",
      "1  Exec-managerial  Not-in-family  White  Female             0          4356   \n",
      "2                ?      Unmarried  Black  Female             0          4356   \n",
      "\n",
      "   hours.per.week native.country  income  \n",
      "0              40  United-States       0  \n",
      "1              18  United-States       0  \n",
      "2              40  United-States       0  \n",
      "\n",
      "\n",
      "Train data after pre-processing:\n",
      "===========================================\n",
      "\n",
      "\n",
      "       age         workclass  fnlwgt     education  education.num  \\\n",
      "0       90                 ?   77053       HS-grad              9   \n",
      "1       82           Private  132870       HS-grad              9   \n",
      "2       66                 ?  186061  Some-college             10   \n",
      "3       54           Private  140359       7th-8th              4   \n",
      "4       41           Private  264663  Some-college             10   \n",
      "5       34           Private  216864       HS-grad              9   \n",
      "6       38           Private  150601          10th              6   \n",
      "7       74         State-gov   88638     Doctorate             16   \n",
      "8       68       Federal-gov  422013       HS-grad              9   \n",
      "9       41           Private   70037  Some-college             10   \n",
      "10      45           Private  172274     Doctorate             16   \n",
      "11      38  Self-emp-not-inc  164526   Prof-school             15   \n",
      "12      52           Private  129177     Bachelors             13   \n",
      "13      32           Private  136204       Masters             14   \n",
      "14      51                 ?  172175     Doctorate             16   \n",
      "15      46           Private   45363   Prof-school             15   \n",
      "16      45           Private  172822          11th              7   \n",
      "17      57           Private  317847       Masters             14   \n",
      "18      22           Private  119592    Assoc-acdm             12   \n",
      "19      34           Private  203034     Bachelors             13   \n",
      "20      37           Private  188774     Bachelors             13   \n",
      "21      29           Private   77009          11th              7   \n",
      "22      61           Private   29059       HS-grad              9   \n",
      "23      51           Private  153870  Some-college             10   \n",
      "24      61                 ?  135285       HS-grad              9   \n",
      "25      21           Private   34310     Assoc-voc             11   \n",
      "26      33           Private  228696       1st-4th              2   \n",
      "27      49           Private  122066       5th-6th              3   \n",
      "28      37      Self-emp-inc  107164          10th              6   \n",
      "29      38           Private  175360          10th              6   \n",
      "...    ...               ...     ...           ...            ...   \n",
      "32531   31           Private  292592       HS-grad              9   \n",
      "32532   29           Private  125976       HS-grad              9   \n",
      "32533   35                 ?  320084     Bachelors             13   \n",
      "32534   30                 ?   33811     Bachelors             13   \n",
      "32535   34           Private  204461     Doctorate             16   \n",
      "32536   54           Private  337992     Bachelors             13   \n",
      "32537   37           Private  179137  Some-college             10   \n",
      "32538   22           Private  325033          12th              8   \n",
      "32539   34           Private  160216     Bachelors             13   \n",
      "32540   30           Private  345898       HS-grad              9   \n",
      "32541   71                 ?  287372     Doctorate             16   \n",
      "32542   45         State-gov  252208       HS-grad              9   \n",
      "32543   41                 ?  202822       HS-grad              9   \n",
      "32544   72                 ?  129912       HS-grad              9   \n",
      "32545   45         Local-gov  119199    Assoc-acdm             12   \n",
      "32546   31           Private  199655       Masters             14   \n",
      "32547   39         Local-gov  111499    Assoc-acdm             12   \n",
      "32548   37           Private  198216    Assoc-acdm             12   \n",
      "32549   43           Private  260761       HS-grad              9   \n",
      "32550   43         State-gov  255835  Some-college             10   \n",
      "32551   43  Self-emp-not-inc   27242  Some-college             10   \n",
      "32552   32           Private   34066          10th              6   \n",
      "32553   43           Private   84661     Assoc-voc             11   \n",
      "32554   32           Private  116138       Masters             14   \n",
      "32555   53           Private  321865       Masters             14   \n",
      "32556   22           Private  310152  Some-college             10   \n",
      "32557   27           Private  257302    Assoc-acdm             12   \n",
      "32558   40           Private  154374       HS-grad              9   \n",
      "32559   58           Private  151910       HS-grad              9   \n",
      "32560   22           Private  201490       HS-grad              9   \n",
      "\n",
      "           marital.status         occupation    relationship  \\\n",
      "0                 Widowed                  ?   Not-in-family   \n",
      "1                 Widowed    Exec-managerial   Not-in-family   \n",
      "2                 Widowed                  ?       Unmarried   \n",
      "3                Divorced  Machine-op-inspct       Unmarried   \n",
      "4               Separated     Prof-specialty       Own-child   \n",
      "5                Divorced      Other-service       Unmarried   \n",
      "6               Separated       Adm-clerical       Unmarried   \n",
      "7           Never-married     Prof-specialty  Other-relative   \n",
      "8                Divorced     Prof-specialty   Not-in-family   \n",
      "9           Never-married       Craft-repair       Unmarried   \n",
      "10               Divorced     Prof-specialty       Unmarried   \n",
      "11          Never-married     Prof-specialty   Not-in-family   \n",
      "12                Widowed      Other-service   Not-in-family   \n",
      "13              Separated    Exec-managerial   Not-in-family   \n",
      "14          Never-married                  ?   Not-in-family   \n",
      "15               Divorced     Prof-specialty   Not-in-family   \n",
      "16               Divorced   Transport-moving   Not-in-family   \n",
      "17               Divorced    Exec-managerial   Not-in-family   \n",
      "18          Never-married  Handlers-cleaners   Not-in-family   \n",
      "19              Separated              Sales   Not-in-family   \n",
      "20          Never-married    Exec-managerial   Not-in-family   \n",
      "21              Separated              Sales   Not-in-family   \n",
      "22               Divorced              Sales       Unmarried   \n",
      "23     Married-civ-spouse   Transport-moving         Husband   \n",
      "24     Married-civ-spouse                  ?         Husband   \n",
      "25     Married-civ-spouse       Craft-repair         Husband   \n",
      "26     Married-civ-spouse       Craft-repair   Not-in-family   \n",
      "27     Married-civ-spouse      Other-service         Husband   \n",
      "28          Never-married   Transport-moving   Not-in-family   \n",
      "29          Never-married     Prof-specialty   Not-in-family   \n",
      "...                   ...                ...             ...   \n",
      "32531  Married-civ-spouse  Machine-op-inspct            Wife   \n",
      "32532           Separated              Sales       Unmarried   \n",
      "32533  Married-civ-spouse                  ?            Wife   \n",
      "32534       Never-married                  ?   Not-in-family   \n",
      "32535  Married-civ-spouse     Prof-specialty         Husband   \n",
      "32536  Married-civ-spouse    Exec-managerial         Husband   \n",
      "32537            Divorced       Adm-clerical       Unmarried   \n",
      "32538       Never-married    Protective-serv       Own-child   \n",
      "32539       Never-married    Exec-managerial   Not-in-family   \n",
      "32540       Never-married       Craft-repair   Not-in-family   \n",
      "32541  Married-civ-spouse                  ?         Husband   \n",
      "32542           Separated       Adm-clerical       Own-child   \n",
      "32543           Separated                  ?   Not-in-family   \n",
      "32544  Married-civ-spouse                  ?         Husband   \n",
      "32545            Divorced     Prof-specialty       Unmarried   \n",
      "32546            Divorced      Other-service   Not-in-family   \n",
      "32547  Married-civ-spouse       Adm-clerical            Wife   \n",
      "32548            Divorced       Tech-support   Not-in-family   \n",
      "32549  Married-civ-spouse  Machine-op-inspct         Husband   \n",
      "32550            Divorced       Adm-clerical  Other-relative   \n",
      "32551  Married-civ-spouse       Craft-repair         Husband   \n",
      "32552  Married-civ-spouse  Handlers-cleaners         Husband   \n",
      "32553  Married-civ-spouse              Sales         Husband   \n",
      "32554       Never-married       Tech-support   Not-in-family   \n",
      "32555  Married-civ-spouse    Exec-managerial         Husband   \n",
      "32556       Never-married    Protective-serv   Not-in-family   \n",
      "32557  Married-civ-spouse       Tech-support            Wife   \n",
      "32558  Married-civ-spouse  Machine-op-inspct         Husband   \n",
      "32559             Widowed       Adm-clerical       Unmarried   \n",
      "32560       Never-married       Adm-clerical       Own-child   \n",
      "\n",
      "                     race     sex  capital.gain  capital.loss  hours.per.week  \\\n",
      "0                   White  Female             0          4356              40   \n",
      "1                   White  Female             0          4356              18   \n",
      "2                   Black  Female             0          4356              40   \n",
      "3                   White  Female             0          3900              40   \n",
      "4                   White  Female             0          3900              40   \n",
      "5                   White  Female             0          3770              45   \n",
      "6                   White    Male             0          3770              40   \n",
      "7                   White  Female             0          3683              20   \n",
      "8                   White  Female             0          3683              40   \n",
      "9                   White    Male             0          3004              60   \n",
      "10                  Black  Female             0          3004              35   \n",
      "11                  White    Male             0          2824              45   \n",
      "12                  White  Female             0          2824              20   \n",
      "13                  White    Male             0          2824              55   \n",
      "14                  White    Male             0          2824              40   \n",
      "15                  White    Male             0          2824              40   \n",
      "16                  White    Male             0          2824              76   \n",
      "17                  White    Male             0          2824              50   \n",
      "18                  Black    Male             0          2824              40   \n",
      "19                  White    Male             0          2824              50   \n",
      "20                  White    Male             0          2824              40   \n",
      "21                  White  Female             0          2754              42   \n",
      "22                  White  Female             0          2754              25   \n",
      "23                  White    Male             0          2603              40   \n",
      "24                  White    Male             0          2603              32   \n",
      "25                  White    Male             0          2603              40   \n",
      "26                  White    Male             0          2603              32   \n",
      "27                  White    Male             0          2603              40   \n",
      "28                  White    Male             0          2559              50   \n",
      "29                  White    Male             0          2559              90   \n",
      "...                   ...     ...           ...           ...             ...   \n",
      "32531               White  Female             0             0              40   \n",
      "32532               White  Female             0             0              35   \n",
      "32533               White  Female             0             0              55   \n",
      "32534  Asian-Pac-Islander  Female             0             0              99   \n",
      "32535               White    Male             0             0              60   \n",
      "32536  Asian-Pac-Islander    Male             0             0              50   \n",
      "32537               White  Female             0             0              39   \n",
      "32538               Black    Male             0             0              35   \n",
      "32539               White  Female             0             0              55   \n",
      "32540               Black    Male             0             0              46   \n",
      "32541               White    Male             0             0              10   \n",
      "32542               White  Female             0             0              40   \n",
      "32543               Black  Female             0             0              32   \n",
      "32544               White    Male             0             0              25   \n",
      "32545               White  Female             0             0              48   \n",
      "32546               Other  Female             0             0              30   \n",
      "32547               White  Female             0             0              20   \n",
      "32548               White  Female             0             0              40   \n",
      "32549               White    Male             0             0              40   \n",
      "32550               White  Female             0             0              40   \n",
      "32551               White    Male             0             0              50   \n",
      "32552  Amer-Indian-Eskimo    Male             0             0              40   \n",
      "32553               White    Male             0             0              45   \n",
      "32554  Asian-Pac-Islander    Male             0             0              11   \n",
      "32555               White    Male             0             0              40   \n",
      "32556               White    Male             0             0              40   \n",
      "32557               White  Female             0             0              38   \n",
      "32558               White    Male             0             0              40   \n",
      "32559               White  Female             0             0              40   \n",
      "32560               White    Male             0             0              20   \n",
      "\n",
      "      native.country  income  \n",
      "0      United-States       0  \n",
      "1      United-States       0  \n",
      "2      United-States       0  \n",
      "3      United-States       0  \n",
      "4      United-States       0  \n",
      "5      United-States       0  \n",
      "6      United-States       0  \n",
      "7      United-States       1  \n",
      "8      United-States       0  \n",
      "9                  ?       1  \n",
      "10     United-States       1  \n",
      "11     United-States       1  \n",
      "12     United-States       1  \n",
      "13     United-States       1  \n",
      "14     United-States       1  \n",
      "15     United-States       1  \n",
      "16     United-States       1  \n",
      "17     United-States       1  \n",
      "18                 ?       1  \n",
      "19     United-States       1  \n",
      "20     United-States       1  \n",
      "21     United-States       0  \n",
      "22     United-States       0  \n",
      "23     United-States       0  \n",
      "24     United-States       0  \n",
      "25     United-States       0  \n",
      "26            Mexico       0  \n",
      "27            Greece       0  \n",
      "28     United-States       1  \n",
      "29     United-States       1  \n",
      "...              ...     ...  \n",
      "32531  United-States       0  \n",
      "32532  United-States       0  \n",
      "32533  United-States       1  \n",
      "32534  United-States       0  \n",
      "32535  United-States       1  \n",
      "32536          Japan       1  \n",
      "32537  United-States       0  \n",
      "32538  United-States       0  \n",
      "32539  United-States       1  \n",
      "32540  United-States       0  \n",
      "32541  United-States       1  \n",
      "32542  United-States       0  \n",
      "32543  United-States       0  \n",
      "32544  United-States       0  \n",
      "32545  United-States       0  \n",
      "32546  United-States       0  \n",
      "32547  United-States       1  \n",
      "32548  United-States       0  \n",
      "32549         Mexico       0  \n",
      "32550  United-States       0  \n",
      "32551  United-States       0  \n",
      "32552  United-States       0  \n",
      "32553  United-States       0  \n",
      "32554         Taiwan       0  \n",
      "32555  United-States       1  \n",
      "32556  United-States       0  \n",
      "32557  United-States       0  \n",
      "32558  United-States       1  \n",
      "32559  United-States       0  \n",
      "32560  United-States       0  \n",
      "\n",
      "[32561 rows x 15 columns]\n"
     ]
    }
   ],
   "source": [
    "a=\"Train data before pre-processing:\"\n",
    "b='='*(len(a)+10)\n",
    "print(a)\n",
    "print(b)\n",
    "print('\\n')\n",
    "print(train_dataset.head(3))\n",
    "c=\"Train data after pre-processing:\"\n",
    "print('\\n')\n",
    "print(c)\n",
    "print(b)\n",
    "print('\\n')\n",
    "train_dataset_preprocessed=train_dataset\n",
    "train_dataset_preprocessed[\"workclass\"] = train_dataset[\"workclass\"].fillna(\"X\")\n",
    "train_dataset_preprocessed[\"occupation\"] = train_dataset[\"occupation\"].fillna(\"X\")\n",
    "train_dataset_preprocessed[\"native.country\"] = train_dataset[\"native.country\"].fillna(\"United-States\")\n",
    "print(train_dataset_preprocessed)"
   ]
  },
  {
   "cell_type": "code",
   "execution_count": 14,
   "metadata": {
    "scrolled": true
   },
   "outputs": [
    {
     "data": {
      "image/png": "[encoded data removed]",
      "text/plain": [
       "<Figure size 432x288 with 1 Axes>"
      ]
     },
     "metadata": {
      "needs_background": "light"
     },
     "output_type": "display_data"
    }
   ],
   "source": [
    "g = sns.barplot(x=\"native.country\",y=\"income\",data=train_dataset_preprocessed)\n",
    "g = g.set_ylabel(\"Income >50K Probability\")"
   ]
  },
  {
   "cell_type": "code",
   "execution_count": 15,
   "metadata": {
    "scrolled": true
   },
   "outputs": [
    {
     "data": {
      "image/png": "[encoded data removed]",
      "text/plain": [
       "<Figure size 432x288 with 1 Axes>"
      ]
     },
     "metadata": {
      "needs_background": "light"
     },
     "output_type": "display_data"
    }
   ],
   "source": [
    "g = sns.barplot(x=\"sex\",y=\"income\",data=train_dataset_preprocessed)\n",
    "g = g.set_ylabel(\"Income >50K Probability\")"
   ]
  },
  {
   "cell_type": "code",
   "execution_count": 16,
   "metadata": {
    "scrolled": true
   },
   "outputs": [
    {
     "data": {
      "image/png": "[encoded data removed]",
      "text/plain": [
       "<Figure size 432x432 with 1 Axes>"
      ]
     },
     "metadata": {
      "needs_background": "light"
     },
     "output_type": "display_data"
    }
   ],
   "source": [
    "# Explore Relationship vs Income\n",
    "g = sns.factorplot(x=\"relationship\",y=\"income\",data=train_dataset_preprocessed,kind=\"bar\", size = 6 ,\n",
    "palette = \"muted\")\n",
    "g.despine(left=True)\n",
    "g = g.set_ylabels(\"Income >50K Probability\")"
   ]
  },
  {
   "cell_type": "code",
   "execution_count": 17,
   "metadata": {
    "scrolled": true
   },
   "outputs": [
    {
     "data": {
      "image/png": "[encoded data removed]",
      "text/plain": [
       "<Figure size 432x432 with 1 Axes>"
      ]
     },
     "metadata": {
      "needs_background": "light"
     },
     "output_type": "display_data"
    }
   ],
   "source": [
    "# Explore Marital Status vs Income\n",
    "g = sns.factorplot(x=\"marital.status\",y=\"income\",data=train_dataset_preprocessed,kind=\"bar\", size = 6 ,\n",
    "palette = \"muted\")\n",
    "g.despine(left=True)\n",
    "g = g.set_ylabels(\"Income >50K Probability\")"
   ]
  },
  {
   "cell_type": "code",
   "execution_count": 18,
   "metadata": {},
   "outputs": [
    {
     "data": {
      "image/png": "[encoded data removed]",
      "text/plain": [
       "<Figure size 432x432 with 1 Axes>"
      ]
     },
     "metadata": {
      "needs_background": "light"
     },
     "output_type": "display_data"
    }
   ],
   "source": [
    "# Explore Workclass vs Income\n",
    "g = sns.factorplot(x=\"workclass\",y=\"income\",data=train_dataset_preprocessed,kind=\"bar\", size = 6 ,\n",
    "palette = \"muted\")\n",
    "g.despine(left=True)\n",
    "g = g.set_ylabels(\"Income >50K Probability\")"
   ]
  },
  {
   "cell_type": "markdown",
   "metadata": {},
   "source": [
    "# Step 3: Label Encoding for Test/Train Data"
   ]
  },
  {
   "cell_type": "markdown",
   "metadata": {},
   "source": [
    "#### Label encoding train dataset"
   ]
  },
  {
   "cell_type": "code",
   "execution_count": 19,
   "metadata": {},
   "outputs": [
    {
     "name": "stdout",
     "output_type": "stream",
     "text": [
      "Dataset with Dropped Labels\n",
      "   age  fnlwgt  education.num  marital.status  sex  capital.gain  \\\n",
      "0   90   77053              9               0    1             0   \n",
      "1   82  132870              9               0    1             0   \n",
      "2   66  186061             10               0    1             0   \n",
      "3   54  140359              4               0    1             0   \n",
      "4   41  264663             10               0    1             0   \n",
      "\n",
      "   capital.loss  hours.per.week  income  \n",
      "0          4356              40       0  \n",
      "1          4356              18       0  \n",
      "2          4356              40       0  \n",
      "3          3900              40       0  \n",
      "4          3900              40       0  \n"
     ]
    }
   ],
   "source": [
    "train_dataset_preprocessed[\"sex\"] = train_dataset_preprocessed[\"sex\"].map({\"Male\": 0, \"Female\":1})\n",
    "\n",
    "# Create Married Column - Binary Yes(1) or No(0)\n",
    "train_dataset_preprocessed[\"marital.status\"] = train_dataset_preprocessed[\"marital.status\"].replace(['Never-married','Divorced','Separated','Widowed'], 'Single')\n",
    "train_dataset_preprocessed[\"marital.status\"] = train_dataset_preprocessed[\"marital.status\"].replace(['Married-civ-spouse','Married-spouse-absent','Married-AF-spouse'], 'Married')\n",
    "train_dataset_preprocessed[\"marital.status\"] = train_dataset_preprocessed[\"marital.status\"].map({\"Married\":1, \"Single\":0})\n",
    "train_dataset_preprocessed[\"marital.status\"] = train_dataset_preprocessed[\"marital.status\"].astype(int)\n",
    "\n",
    "# Drop the data you don't want to use\n",
    "train_dataset_preprocessed.drop(labels=[\"workclass\",\"education\",\"occupation\",\"relationship\",\"race\",\"native.country\"], axis = 1, inplace = True)\n",
    "print('Dataset with Dropped Labels')\n",
    "print(train_dataset_preprocessed.head())"
   ]
  },
  {
   "cell_type": "markdown",
   "metadata": {},
   "source": [
    "# Step 4: Feature Extraction – Changing Representation of Data “from String to Vector”"
   ]
  },
  {
   "cell_type": "code",
   "execution_count": 20,
   "metadata": {},
   "outputs": [
    {
     "name": "stdout",
     "output_type": "stream",
     "text": [
      "Split Data: X\n",
      "[[    90  77053      9 ...      0   4356     40]\n",
      " [    82 132870      9 ...      0   4356     18]\n",
      " [    66 186061     10 ...      0   4356     40]\n",
      " ...\n",
      " [    40 154374      9 ...      0      0     40]\n",
      " [    58 151910      9 ...      0      0     40]\n",
      " [    22 201490      9 ...      0      0     20]]\n",
      "Split Data: Y\n",
      "[0 0 0 ... 1 0 0]\n"
     ]
    }
   ],
   "source": [
    "array = train_dataset_preprocessed.values\n",
    "#print(array)\n",
    "X = array[:,0:8] # all input data\n",
    "Y = array[:,8] # output Data i.e, Income\n",
    "print('Split Data: X')\n",
    "print(X)\n",
    "print('Split Data: Y')\n",
    "print(Y)\n",
    "validation_size = 0.20\n",
    "seed = 7\n",
    "num_folds = 10\n",
    "scoring = 'accuracy'\n",
    "X_train,X_test,y_train,y_test= train_test_split(X,Y,\n",
    "    test_size=validation_size,random_state=seed)\n",
    "\n",
    "# Params for Random Forest\n",
    "num_trees = 100\n",
    "max_features = 3\n"
   ]
  },
  {
   "cell_type": "markdown",
   "metadata": {},
   "source": [
    "# Step 5: Train Machine Learning Algorithms using Training Data"
   ]
  },
  {
   "cell_type": "code",
   "execution_count": 21,
   "metadata": {},
   "outputs": [
    {
     "name": "stdout",
     "output_type": "stream",
     "text": [
      "Parameters and their values:\n",
      "================================================\n",
      "\n",
      "\n",
      "LogisticRegression(C=1.0, class_weight=None, dual=False, fit_intercept=True,\n",
      "                   intercept_scaling=1, l1_ratio=None, max_iter=100,\n",
      "                   multi_class='warn', n_jobs=None, penalty='l2',\n",
      "                   random_state=None, solver='warn', tol=0.0001, verbose=0,\n",
      "                   warm_start=False)\n"
     ]
    },
    {
     "name": "stderr",
     "output_type": "stream",
     "text": [
      "C:\\ProgramData\\Anaconda3\\lib\\site-packages\\sklearn\\linear_model\\logistic.py:432: FutureWarning: Default solver will be changed to 'lbfgs' in 0.22. Specify a solver to silence this warning.\n",
      "  FutureWarning)\n"
     ]
    }
   ],
   "source": [
    "from sklearn.metrics import accuracy_score\n",
    "log=LogisticRegression()\n",
    "log.fit(X_train,y_train)\n",
    "a=\"Parameters and their values:\"\n",
    "b='='*(len(a)+20)\n",
    "print(a)\n",
    "print(b)\n",
    "print('\\n')\n",
    "\n",
    "print(log)"
   ]
  },
  {
   "cell_type": "code",
   "execution_count": 22,
   "metadata": {},
   "outputs": [
    {
     "name": "stderr",
     "output_type": "stream",
     "text": [
      "C:\\ProgramData\\Anaconda3\\lib\\site-packages\\sklearn\\ensemble\\forest.py:245: FutureWarning: The default value of n_estimators will change from 10 in version 0.20 to 100 in 0.22.\n",
      "  \"10 in version 0.20 to 100 in 0.22.\", FutureWarning)\n"
     ]
    },
    {
     "name": "stdout",
     "output_type": "stream",
     "text": [
      "Parameters and their values:\n",
      "================================================\n",
      "\n",
      "\n",
      "RandomForestClassifier(bootstrap=True, class_weight=None, criterion='gini',\n",
      "                       max_depth=None, max_features='auto', max_leaf_nodes=None,\n",
      "                       min_impurity_decrease=0.0, min_impurity_split=None,\n",
      "                       min_samples_leaf=1, min_samples_split=2,\n",
      "                       min_weight_fraction_leaf=0.0, n_estimators=10,\n",
      "                       n_jobs=None, oob_score=False, random_state=None,\n",
      "                       verbose=0, warm_start=False)\n"
     ]
    }
   ],
   "source": [
    "from sklearn.ensemble import RandomForestClassifier\n",
    "rand_forest_classifier=RandomForestClassifier()\n",
    "# Fitting train data in Random Forest.\n",
    "rand_forest_classifier.fit(X_train,y_train)\n",
    "\n",
    "#print(y_predictions_randmforest)\n",
    "a=\"Parameters and their values:\"\n",
    "b='='*(len(a)+20)\n",
    "print(a)\n",
    "print(b)\n",
    "print('\\n')\n",
    "print(rand_forest_classifier)"
   ]
  },
  {
   "cell_type": "code",
   "execution_count": 23,
   "metadata": {},
   "outputs": [
    {
     "name": "stdout",
     "output_type": "stream",
     "text": [
      "Parameters and their values:\n",
      "================================================\n",
      "\n",
      "\n",
      "LinearSVC(C=1.0, class_weight=None, dual=True, fit_intercept=True,\n",
      "          intercept_scaling=1, loss='squared_hinge', max_iter=1000,\n",
      "          multi_class='ovr', penalty='l2', random_state=None, tol=0.0001,\n",
      "          verbose=0)\n"
     ]
    },
    {
     "name": "stderr",
     "output_type": "stream",
     "text": [
      "C:\\ProgramData\\Anaconda3\\lib\\site-packages\\sklearn\\svm\\base.py:929: ConvergenceWarning: Liblinear failed to converge, increase the number of iterations.\n",
      "  \"the number of iterations.\", ConvergenceWarning)\n"
     ]
    }
   ],
   "source": [
    "from sklearn.svm import LinearSVC\n",
    "svc=LinearSVC()\n",
    "svc.fit(X_train,y_train)\n",
    "a=\"Parameters and their values:\"\n",
    "b='='*(len(a)+20)\n",
    "print(a)\n",
    "print(b)\n",
    "print('\\n')\n",
    "print(svc)"
   ]
  },
  {
   "cell_type": "code",
   "execution_count": 24,
   "metadata": {},
   "outputs": [
    {
     "name": "stdout",
     "output_type": "stream",
     "text": [
      "Parameters and their values:\n",
      "================================================\n",
      "\n",
      "\n",
      "BernoulliNB(alpha=1.0, binarize=0.0, class_prior=None, fit_prior=True)\n"
     ]
    }
   ],
   "source": [
    "from sklearn.naive_bayes import BernoulliNB\n",
    "bernoulli_nb=BernoulliNB()\n",
    "a=\"Parameters and their values:\"\n",
    "bernoulli_nb.fit(X_train,y_train)\n",
    "b='='*(len(a)+20)\n",
    "print(a)\n",
    "print(b)\n",
    "print('\\n')\n",
    "print(bernoulli_nb)"
   ]
  },
  {
   "cell_type": "code",
   "execution_count": 25,
   "metadata": {},
   "outputs": [
    {
     "name": "stdout",
     "output_type": "stream",
     "text": [
      "Parameters and their values:\n",
      "================================================\n",
      "\n",
      "\n",
      "LinearDiscriminantAnalysis(n_components=None, priors=None, shrinkage=None,\n",
      "                           solver='svd', store_covariance=False, tol=0.0001)\n"
     ]
    }
   ],
   "source": [
    "a=\"Parameters and their values:\"\n",
    "b='='*(len(a)+20)\n",
    "print(a)\n",
    "print(b)\n",
    "print('\\n')\n",
    "lda=LinearDiscriminantAnalysis()\n",
    "lda.fit(X_train,y_train)\n",
    "print(lda)"
   ]
  },
  {
   "cell_type": "code",
   "execution_count": 26,
   "metadata": {},
   "outputs": [
    {
     "name": "stdout",
     "output_type": "stream",
     "text": [
      "Parameters and their values:\n",
      "================================================\n",
      "\n",
      "\n",
      "KNeighborsClassifier(algorithm='auto', leaf_size=30, metric='minkowski',\n",
      "                     metric_params=None, n_jobs=None, n_neighbors=5, p=2,\n",
      "                     weights='uniform')\n"
     ]
    }
   ],
   "source": [
    "a=\"Parameters and their values:\"\n",
    "b='='*(len(a)+20)\n",
    "print(a)\n",
    "print(b)\n",
    "print('\\n')\n",
    "knn=KNeighborsClassifier()\n",
    "knn.fit(X_train,y_train)\n",
    "print(knn)"
   ]
  },
  {
   "cell_type": "code",
   "execution_count": 27,
   "metadata": {},
   "outputs": [
    {
     "name": "stdout",
     "output_type": "stream",
     "text": [
      "Parameters and their values:\n",
      "================================================\n",
      "\n",
      "\n",
      "DecisionTreeClassifier(class_weight=None, criterion='gini', max_depth=None,\n",
      "                       max_features=None, max_leaf_nodes=None,\n",
      "                       min_impurity_decrease=0.0, min_impurity_split=None,\n",
      "                       min_samples_leaf=1, min_samples_split=2,\n",
      "                       min_weight_fraction_leaf=0.0, presort=False,\n",
      "                       random_state=None, splitter='best')\n"
     ]
    }
   ],
   "source": [
    "a=\"Parameters and their values:\"\n",
    "b='='*(len(a)+20)\n",
    "print(a)\n",
    "print(b)\n",
    "print('\\n')\n",
    "dtc=DecisionTreeClassifier()\n",
    "dtc.fit(X_train,y_train)\n",
    "print(dtc)"
   ]
  },
  {
   "cell_type": "code",
   "execution_count": 28,
   "metadata": {},
   "outputs": [
    {
     "name": "stdout",
     "output_type": "stream",
     "text": [
      "Parameters and their values:\n",
      "================================================\n",
      "\n",
      "\n",
      "GaussianNB(priors=None, var_smoothing=1e-09)\n"
     ]
    }
   ],
   "source": [
    "a=\"Parameters and their values:\"\n",
    "b='='*(len(a)+20)\n",
    "print(a)\n",
    "print(b)\n",
    "print('\\n')\n",
    "gnb=GaussianNB()\n",
    "gnb.fit(X_train,y_train)\n",
    "print(gnb)"
   ]
  },
  {
   "cell_type": "markdown",
   "metadata": {},
   "source": [
    "# Step 6: Evaluate Machine Learning Algorithms using Test Data"
   ]
  },
  {
   "cell_type": "code",
   "execution_count": 29,
   "metadata": {},
   "outputs": [
    {
     "name": "stdout",
     "output_type": "stream",
     "text": [
      "\n",
      "\n",
      "Accuracy score:\n",
      "====================\n",
      "79.88638108398587\n"
     ]
    }
   ],
   "source": [
    "from sklearn.linear_model import LogisticRegression\n",
    "from sklearn.metrics import accuracy_score\n",
    "\n",
    "y_pred=log.predict(X_test)\n",
    "print('\\n')\n",
    "print('Accuracy score:')\n",
    "b='='*(20)\n",
    "print(b)\n",
    "listofmodels=[]\n",
    "dic=[\"Logistic Regression\",accuracy_score(y_test,y_pred)]\n",
    "listofmodels.append(dic)\n",
    "print(accuracy_score(y_test,y_pred)*100)"
   ]
  },
  {
   "cell_type": "code",
   "execution_count": 30,
   "metadata": {},
   "outputs": [
    {
     "name": "stdout",
     "output_type": "stream",
     "text": [
      "Accuracy score:\n",
      "====================\n",
      "84.21618301857822\n"
     ]
    }
   ],
   "source": [
    "from sklearn.metrics import accuracy_score\n",
    "y_pred=rand_forest_classifier.predict(X_test)\n",
    "print('Accuracy score:')\n",
    "b='='*(20)\n",
    "print(b)\n",
    "dic=[\"Random Forest Classifier\",accuracy_score(y_test,y_pred)]\n",
    "listofmodels.append(dic)\n",
    "print(accuracy_score(y_test,y_pred)*100)"
   ]
  },
  {
   "cell_type": "code",
   "execution_count": 31,
   "metadata": {},
   "outputs": [
    {
     "name": "stdout",
     "output_type": "stream",
     "text": [
      "Accuracy score:\n",
      "====================\n",
      "33.64041148472286\n"
     ]
    }
   ],
   "source": [
    "y_pred=svc.predict(X_test)\n",
    "print('Accuracy score:')\n",
    "b='='*(20)\n",
    "print(b)\n",
    "dic=[\"Linear SVC\",accuracy_score(y_test,y_pred)]\n",
    "listofmodels.append(dic)\n",
    "print(accuracy_score(y_test,y_pred)*100)"
   ]
  },
  {
   "cell_type": "code",
   "execution_count": 32,
   "metadata": {},
   "outputs": [
    {
     "name": "stdout",
     "output_type": "stream",
     "text": [
      "Prediction using BernoulliNB:\n",
      "Accuracy score:\n",
      "====================\n",
      "79.94779671426377\n"
     ]
    }
   ],
   "source": [
    "print(\"Prediction using BernoulliNB:\")\n",
    "y_pred=bernoulli_nb.predict(X_test)\n",
    "print('Accuracy score:')\n",
    "b='='*(20)\n",
    "print(b)\n",
    "dic=[\"BernoulliNB\",accuracy_score(y_test,y_pred)]\n",
    "listofmodels.append(dic)\n",
    "print(accuracy_score(y_test,y_pred)*100)"
   ]
  },
  {
   "cell_type": "code",
   "execution_count": 33,
   "metadata": {},
   "outputs": [
    {
     "name": "stdout",
     "output_type": "stream",
     "text": [
      "Prediction Using LinearDiscriminantAnalysis:\n",
      "\n",
      "\n",
      "Accuracy score:\n",
      "====================\n",
      "83.1874712114233\n"
     ]
    }
   ],
   "source": [
    "print(\"Prediction Using LinearDiscriminantAnalysis:\")\n",
    "print(\"\\n\")\n",
    "y_pred=lda.predict(X_test)\n",
    "dic=[\"LDA\",accuracy_score(y_test,y_pred)]\n",
    "listofmodels.append(dic)\n",
    "print('Accuracy score:')\n",
    "b='='*(20)\n",
    "print(b)\n",
    "print(accuracy_score(y_test,y_pred)*100)"
   ]
  },
  {
   "cell_type": "code",
   "execution_count": 34,
   "metadata": {},
   "outputs": [
    {
     "name": "stdout",
     "output_type": "stream",
     "text": [
      "Prediction Using KNeighbourClassifer:\n",
      "\n",
      "\n",
      "Accuracy score:\n",
      "====================\n",
      "78.3049286043298\n"
     ]
    }
   ],
   "source": [
    "print(\"Prediction Using KNeighbourClassifer:\")\n",
    "print(\"\\n\")\n",
    "y_pred=knn.predict(X_test)\n",
    "dic=[\"KNN\",accuracy_score(y_test,y_pred)]\n",
    "listofmodels.append(dic)\n",
    "print('Accuracy score:')\n",
    "b='='*(20)\n",
    "print(b)\n",
    "print(accuracy_score(y_test,y_pred)*100)"
   ]
  },
  {
   "cell_type": "code",
   "execution_count": 35,
   "metadata": {},
   "outputs": [
    {
     "name": "stdout",
     "output_type": "stream",
     "text": [
      "Prediction Using Decision Tree Classifer:\n",
      "\n",
      "\n",
      "Accuracy score:\n",
      "====================\n",
      "80.43912175648703\n"
     ]
    }
   ],
   "source": [
    "print(\"Prediction Using Decision Tree Classifer:\")\n",
    "print(\"\\n\")\n",
    "y_pred=dtc.predict(X_test)\n",
    "dic=[\"Decision Tree Classifier\",accuracy_score(y_test,y_pred)]\n",
    "listofmodels.append(dic)\n",
    "print('Accuracy score:')\n",
    "b='='*(20)\n",
    "print(b)\n",
    "print(accuracy_score(y_test,y_pred)*100)"
   ]
  },
  {
   "cell_type": "code",
   "execution_count": 36,
   "metadata": {},
   "outputs": [
    {
     "name": "stdout",
     "output_type": "stream",
     "text": [
      "Prediction Using GaussianNB:\n",
      "\n",
      "\n",
      "Accuracy score:\n",
      "====================\n",
      "79.53324120988792\n"
     ]
    }
   ],
   "source": [
    "print(\"Prediction Using GaussianNB:\")\n",
    "print(\"\\n\")\n",
    "y_pred=gnb.predict(X_test)\n",
    "dic=[\"GaussianNB\",accuracy_score(y_test,y_pred)]\n",
    "listofmodels.append(dic)\n",
    "print('Accuracy score:')\n",
    "b='='*(20)\n",
    "print(b)\n",
    "print(accuracy_score(y_test,y_pred)*100)"
   ]
  },
  {
   "cell_type": "markdown",
   "metadata": {},
   "source": [
    "# Step 7: Selection of Best Model"
   ]
  },
  {
   "cell_type": "code",
   "execution_count": 37,
   "metadata": {
    "scrolled": false
   },
   "outputs": [
    {
     "name": "stdout",
     "output_type": "stream",
     "text": [
      "+--------------------------+--------------------+\n",
      "|          Model           |      Accuracy      |\n",
      "+--------------------------+--------------------+\n",
      "|   Logistic Regression    | 0.7988638108398587 |\n",
      "| Random Forest Classifier | 0.8421618301857823 |\n",
      "|        Linear SVC        | 0.3364041148472286 |\n",
      "|       BernoulliNB        | 0.7994779671426377 |\n",
      "|           LDA            | 0.831874712114233  |\n",
      "|           KNN            | 0.783049286043298  |\n",
      "| Decision Tree Classifier | 0.8043912175648703 |\n",
      "|        GaussianNB        | 0.7953324120988792 |\n",
      "+--------------------------+--------------------+\n"
     ]
    }
   ],
   "source": [
    "from prettytable import PrettyTable\n",
    "table = PrettyTable()\n",
    "\n",
    "table.title = 'Results of Models Accuracy'\n",
    "table.field_names = ['Model', 'Accuracy']\n",
    "#print(listofmodels)\n",
    "for i,j in listofmodels:\n",
    "    table.add_row([i,j])\n",
    "#table.add_row(['bla', 3.14])\n",
    "#table.add_row(['baz', 42.0])\n",
    "\n",
    "print(table)"
   ]
  },
  {
   "cell_type": "code",
   "execution_count": 38,
   "metadata": {},
   "outputs": [
    {
     "name": "stdout",
     "output_type": "stream",
     "text": [
      "0.7988638108398587\n"
     ]
    }
   ],
   "source": [
    "print(listofmodels[0][1])\n",
    "accuracies=[]\n",
    "names=[]\n",
    "for i in range(len(listofmodels)):\n",
    "    accuracies.append(listofmodels[i][1])\n",
    "    names.append(listofmodels[i][0])\n"
   ]
  },
  {
   "cell_type": "markdown",
   "metadata": {},
   "source": [
    "# PHASE 3: APPLICATION PHASE"
   ]
  },
  {
   "cell_type": "markdown",
   "metadata": {},
   "source": [
    "# Step 8: Application Phase"
   ]
  },
  {
   "cell_type": "code",
   "execution_count": 39,
   "metadata": {},
   "outputs": [
    {
     "name": "stdout",
     "output_type": "stream",
     "text": [
      "<class 'pandas.core.frame.DataFrame'>\n",
      "RangeIndex: 32561 entries, 0 to 32560\n",
      "Data columns (total 9 columns):\n",
      "age               32561 non-null int64\n",
      "fnlwgt            32561 non-null int64\n",
      "education.num     32561 non-null int64\n",
      "marital.status    32561 non-null int32\n",
      "sex               32561 non-null int64\n",
      "capital.gain      32561 non-null int64\n",
      "capital.loss      32561 non-null int64\n",
      "hours.per.week    32561 non-null int64\n",
      "income            32561 non-null int64\n",
      "dtypes: int32(1), int64(8)\n",
      "memory usage: 2.1 MB\n"
     ]
    }
   ],
   "source": [
    "train_dataset_preprocessed.info()"
   ]
  },
  {
   "cell_type": "markdown",
   "metadata": {},
   "source": [
    "### Step 8.2: Train Best Model (see Step 7) on all features (Train+Test)"
   ]
  },
  {
   "cell_type": "code",
   "execution_count": 40,
   "metadata": {},
   "outputs": [
    {
     "name": "stderr",
     "output_type": "stream",
     "text": [
      "C:\\ProgramData\\Anaconda3\\lib\\site-packages\\ipykernel_launcher.py:3: DataConversionWarning: A column-vector y was passed when a 1d array was expected. Please change the shape of y to (n_samples,), for example using ravel().\n",
      "  This is separate from the ipykernel package so we can avoid doing imports until\n"
     ]
    },
    {
     "name": "stdout",
     "output_type": "stream",
     "text": [
      "RandomForestClassifier(bootstrap=True, class_weight=None, criterion='gini',\n",
      "                       max_depth=None, max_features='auto', max_leaf_nodes=None,\n",
      "                       min_impurity_decrease=0.0, min_impurity_split=None,\n",
      "                       min_samples_leaf=1, min_samples_split=2,\n",
      "                       min_weight_fraction_leaf=0.0, n_estimators=10,\n",
      "                       n_jobs=None, oob_score=False, random_state=None,\n",
      "                       verbose=0, warm_start=False)\n"
     ]
    }
   ],
   "source": [
    "inputs=['age','fnlwgt','education.num','marital.status','sex','capital.gain','capital.loss','hours.per.week']\n",
    "output=['income']\n",
    "rand_forest_classifier.fit(train_dataset_preprocessed[inputs],train_dataset_preprocessed[output])\n",
    "print(rand_forest_classifier)"
   ]
  },
  {
   "cell_type": "markdown",
   "metadata": {},
   "source": [
    "### Step 8.3: Save the trained model in Pickle file "
   ]
  },
  {
   "cell_type": "code",
   "execution_count": 41,
   "metadata": {},
   "outputs": [],
   "source": [
    "pickle.dump(rand_forest_classifier,open('random_forest_Classifier_House_price_pred.pkl','wb'))"
   ]
  },
  {
   "cell_type": "markdown",
   "metadata": {},
   "source": [
    "<center><h3> End of the Tutorial </h3></center>"
   ]
  }
 ],
 "metadata": {
  "kernelspec": {
   "display_name": "Python 3",
   "language": "python",
   "name": "python3"
  },
  "language_info": {
   "codemirror_mode": {
    "name": "ipython",
    "version": 3
   },
   "file_extension": ".py",
   "mimetype": "text/x-python",
   "name": "python",
   "nbconvert_exporter": "python",
   "pygments_lexer": "ipython3",
   "version": "3.7.6"
  }
 },
 "nbformat": 4,
 "nbformat_minor": 2
}
